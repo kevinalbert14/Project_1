{
  "cells": [
    {
      "cell_type": "markdown",
      "id": "78e2d1db",
      "metadata": {
        "id": "78e2d1db"
      },
      "source": [
        "## Machine Learning and Vision for Waste Management System – Vision RO"
      ]
    },
    {
      "cell_type": "markdown",
      "id": "64343f0a",
      "metadata": {
        "id": "64343f0a"
      },
      "source": [
        "## Data Description\n",
        "\n",
        "**Roll off trucks are used to dump waste bins. The process of determining a complete roll off is being done by human intervention causing many irregularities.To overcome these problems,Rear cameras has been incorporated on the back of the truck to capture the images and a machine learning model is being developed using suitable algorithms and machine vision tools to detect the position of truck.\n",
        "\n",
        "The dataset taken for this project consists of images captured from the roll off trucks. The dataset images is classified in to three categeories as Pickup data (Loading the Bin),Dump data ( unloading the bin ), Dropoff data( Bin completely out from truck)  based on the bin position. The dataset has a total of 969 images distributed over five events for each categeory. The given data is labelled.\n",
        "\n"
      ]
    },
    {
      "cell_type": "code",
      "execution_count": 144,
      "id": "d2643c96",
      "metadata": {
        "id": "d2643c96"
      },
      "outputs": [],
      "source": [
        "import os\n",
        "import seaborn as sns\n",
        "import pandas as pd\n",
        "import numpy as np\n",
        "from tensorflow.keras.datasets import mnist\n",
        "import tensorflow as tf\n",
        "import matplotlib.pyplot as plt \n",
        "from tensorflow.keras.utils import to_categorical\n",
        "from tensorflow.keras.models import Sequential\n",
        "from tensorflow.keras.layers import Dense\n",
        "from tensorflow.keras.preprocessing.image import load_img, img_to_array, smart_resize\n",
        "import matplotlib.pyplot as plt\n",
        "from pathlib import Path"
      ]
    },
    {
      "cell_type": "code",
      "execution_count": 129,
      "id": "cf743efa",
      "metadata": {
        "id": "cf743efa"
      },
      "outputs": [],
      "source": [
        "#!pip install hvplot\n",
        "import hvplot.pandas"
      ]
    },
    {
      "cell_type": "code",
      "execution_count": 130,
      "id": "00ba8c1f",
      "metadata": {
        "id": "00ba8c1f"
      },
      "outputs": [],
      "source": [
        "#pip install tensorflow"
      ]
    },
    {
      "cell_type": "code",
      "execution_count": 131,
      "id": "5628e51f",
      "metadata": {
        "id": "5628e51f"
      },
      "outputs": [],
      "source": [
        "from tensorflow.keras.preprocessing.image import load_img, img_to_array, smart_resize"
      ]
    },
    {
      "cell_type": "code",
      "execution_count": 132,
      "id": "7271d542",
      "metadata": {
        "colab": {
          "base_uri": "https://localhost:8080/"
        },
        "id": "7271d542",
        "outputId": "369224d2-dc10-4cd6-e266-a7de0cc06c83"
      },
      "outputs": [
        {
          "output_type": "stream",
          "name": "stdout",
          "text": [
            "Drive already mounted at /content/drive; to attempt to forcibly remount, call drive.mount(\"/content/drive\", force_remount=True).\n"
          ]
        }
      ],
      "source": [
        "from google.colab import drive\n",
        "\n",
        "drive.mount('/content/drive')"
      ]
    },
    {
      "cell_type": "code",
      "execution_count": 133,
      "id": "90084e84",
      "metadata": {
        "colab": {
          "base_uri": "https://localhost:8080/"
        },
        "id": "90084e84",
        "outputId": "eebed3f3-a574-427b-b161-6afcc4e9030c"
      },
      "outputs": [
        {
          "output_type": "execute_result",
          "data": {
            "text/plain": [
              "['.config', 'drive', 'sample_data']"
            ]
          },
          "metadata": {},
          "execution_count": 133
        }
      ],
      "source": [
        "os.listdir()"
      ]
    },
    {
      "cell_type": "code",
      "execution_count": 140,
      "id": "ffc76338",
      "metadata": {
        "colab": {
          "base_uri": "https://localhost:8080/"
        },
        "id": "ffc76338",
        "outputId": "fcb84891-9926-46e2-dc65-439e62a4fc3e"
      },
      "outputs": [
        {
          "output_type": "stream",
          "name": "stdout",
          "text": [
            "/content\n",
            "/content/drive/MyDrive/Data Sets\n"
          ]
        }
      ],
      "source": [
        "p = Path().cwd()\n",
        "print(p)\n",
        "q =  p/'drive'/'MyDrive'/'Data Sets' # use p to create a path to the data \n",
        "print(q)"
      ]
    },
    {
      "cell_type": "markdown",
      "id": "3054cb19",
      "metadata": {
        "id": "3054cb19"
      },
      "source": [
        " **The plot represents the number of images present in the raw data.Dump data has more number of images comparing to the other two categories"
      ]
    },
    {
      "cell_type": "code",
      "execution_count": 153,
      "id": "6d07e814",
      "metadata": {
        "colab": {
          "base_uri": "https://localhost:8080/",
          "height": 463
        },
        "id": "6d07e814",
        "outputId": "5f42ddd1-7907-4eac-950d-4fd341e305e6"
      },
      "outputs": [
        {
          "output_type": "stream",
          "name": "stdout",
          "text": [
            "Displaying the number of instances in the Input categories provided :\n",
            "RO Dump Data Set\n",
            "5\n",
            "RO Pickup Data Set\n",
            "5\n",
            "RO Drop Off Data Set\n",
            "5\n"
          ]
        },
        {
          "output_type": "display_data",
          "data": {
            "text/plain": [
              "<Figure size 432x288 with 1 Axes>"
            ],
            "image/png": "[encoded data removed]"
          },
          "metadata": {
            "needs_background": "light"
          }
        }
      ],
      "source": [
        "sum=0\n",
        "file_name =[]\n",
        "files_inside=[]\n",
        "print('Displaying the number of instances in the Input categories provided :')\n",
        "for fldr in q.iterdir(): \n",
        "  if(sum>0):\n",
        "    print(sum)\n",
        "    files_inside.append(sum)\n",
        "  sum=0\n",
        "  print(fldr.name)\n",
        "  file_name.append(fldr.name)\n",
        "  current_label = fldr.name\n",
        "  for img in fldr.iterdir():\n",
        "    sum=sum+1\n",
        "print(sum)\n",
        "files_inside.append(sum)\n",
        "#print(file_name,files_inside)\n",
        "\n",
        "\n",
        "fig = plt.figure()\n",
        "ax = fig.add_axes([0,0,1,1])\n",
        "y = files_inside\n",
        "x = file_name\n",
        "ax.barh(x,y)\n",
        "plt.show()"
      ]
    },
    {
      "cell_type": "code",
      "source": [
        "count = 0\n",
        "folder_counts = 0\n",
        "folder_name=[]\n",
        "folder_count=[]\n",
        "for fldr in q.iterdir(): \n",
        "  print('\\n \\nExploring the folder :',fldr.name)\n",
        "  current_label = fldr.name\n",
        "  folder_counts = 0\n",
        "  for img in fldr.iterdir():\n",
        "    folder_counts = folder_counts +count\n",
        "    print('Counting Images in folder :',img.name)\n",
        "    folder_name.append(img.name)\n",
        "    count = 0\n",
        "    for img2 in img.iterdir():\n",
        "      count= count+1\n",
        "    print(count)\n",
        "    folder_count.append(count)\n",
        "  print('Total number of images in folder :',fldr.name,'is',folder_counts)\n",
        "  new=fldr.name+' Total'\n",
        "  folder_name.append(new)\n",
        "  folder_count.append(folder_counts)\n",
        "\n",
        "print(folder_name, folder_count)"
      ],
      "metadata": {
        "colab": {
          "base_uri": "https://localhost:8080/"
        },
        "id": "Ue03kt12cNCo",
        "outputId": "3d373781-4c75-425d-c6d5-badf40957723"
      },
      "id": "Ue03kt12cNCo",
      "execution_count": 151,
      "outputs": [
        {
          "output_type": "stream",
          "name": "stdout",
          "text": [
            "\n",
            " \n",
            "Exploring the folder : RO Dump Data Set\n",
            "Counting Images in folder : 46773 RO 20 TruckDumped\n",
            "146\n",
            "Counting Images in folder : 50194 RO 20 TruckDumped\n",
            "113\n",
            "Counting Images in folder : 50488 RO 20 TruckDumped\n",
            "61\n",
            "Counting Images in folder : 47640 RO 20 TruckDumped\n",
            "125\n",
            "Counting Images in folder : 45750 RO 20 TruckDumped\n",
            "80\n",
            "Total number of images in folder : RO Dump Data Set is 445\n",
            "\n",
            " \n",
            "Exploring the folder : RO Pickup Data Set\n",
            "Counting Images in folder : 49964 RO 20 TruckPickedUpBin\n",
            "17\n",
            "Counting Images in folder : 51284 RO 20 TruckPickedUpBin\n",
            "13\n",
            "Counting Images in folder : 50461 RO 20 TruckPickedUpBin\n",
            "66\n",
            "Counting Images in folder : 45879 RO 20 TruckPickedUpBin\n",
            "30\n",
            "Counting Images in folder : 45695 RO 20 TruckPickedUpBin\n",
            "144\n",
            "Total number of images in folder : RO Pickup Data Set is 206\n",
            "\n",
            " \n",
            "Exploring the folder : RO Drop Off Data Set\n",
            "Counting Images in folder : 47622 RO 20 TruckDroppedOffBin\n",
            "70\n",
            "Counting Images in folder : 48981 RO 20 TruckDroppedOffBin\n",
            "8\n",
            "Counting Images in folder : 48165 RO 20 TruckDroppedOffBin\n",
            "15\n",
            "Counting Images in folder : 57752 RO 20 TruckDroppedOffBin\n",
            "80\n",
            "Counting Images in folder : 50161 RO 20 TruckDroppedOffBin\n",
            "16\n",
            "Total number of images in folder : RO Drop Off Data Set is 317\n",
            "['46773 RO 20 TruckDumped', '50194 RO 20 TruckDumped', '50488 RO 20 TruckDumped', '47640 RO 20 TruckDumped', '45750 RO 20 TruckDumped', 'RO Dump Data Set Total', '49964 RO 20 TruckPickedUpBin', '51284 RO 20 TruckPickedUpBin', '50461 RO 20 TruckPickedUpBin', '45879 RO 20 TruckPickedUpBin', '45695 RO 20 TruckPickedUpBin', 'RO Pickup Data Set Total', '47622 RO 20 TruckDroppedOffBin', '48981 RO 20 TruckDroppedOffBin', '48165 RO 20 TruckDroppedOffBin', '57752 RO 20 TruckDroppedOffBin', '50161 RO 20 TruckDroppedOffBin', 'RO Drop Off Data Set Total'] [146, 113, 61, 125, 80, 445, 17, 13, 66, 30, 144, 206, 70, 8, 15, 80, 16, 317]\n"
          ]
        }
      ]
    },
    {
      "cell_type": "code",
      "source": [
        "import matplotlib.pyplot as plt\n",
        "import numpy as np\n",
        "\n",
        "\n",
        "fig = plt.figure()\n",
        "ax = fig.add_axes([0,0,1,1])\n",
        "y = folder_count\n",
        "x = folder_name\n",
        "ax.barh(x,y)\n",
        "plt.show()"
      ],
      "metadata": {
        "colab": {
          "base_uri": "https://localhost:8080/",
          "height": 336
        },
        "id": "U8eCN8vVjbjx",
        "outputId": "c8de49e7-a4f7-4dd3-dd0f-a6ffb1c3b8b8"
      },
      "id": "U8eCN8vVjbjx",
      "execution_count": 152,
      "outputs": [
        {
          "output_type": "display_data",
          "data": {
            "text/plain": [
              "<Figure size 432x288 with 1 Axes>"
            ],
            "image/png": "[encoded data removed]"
          },
          "metadata": {
            "needs_background": "light"
          }
        }
      ]
    },
    {
      "cell_type": "markdown",
      "source": [
        "Here we  can see that the data has been divided into 3 Buckets,\n",
        "\n",
        "* Pickup\n",
        "* DropOff\n",
        "* Dump\n",
        "\n",
        "Each folder has 5 incidents inside them, some are longer than others hence the difference in number of images in each folder.\n",
        "\n",
        "Now we classify this data into 4 distinct Categories,\n",
        "\n",
        "* Loaded\n",
        "* Unloaded\n",
        "* Dumping\n",
        "* Trans\n",
        "\n",
        "when we see an image of a truck loading or unloading the images look similar, so we have categorized them as \"Trans\".\n"
      ],
      "metadata": {
        "id": "R9lfsACP_pER"
      },
      "id": "R9lfsACP_pER"
    },
    {
      "cell_type": "markdown",
      "source": [
        ""
      ],
      "metadata": {
        "id": "MKz9b7BKBIXF"
      },
      "id": "MKz9b7BKBIXF"
    },
    {
      "cell_type": "markdown",
      "source": [
        "**After classification we are taking a look at the images inside each folder**"
      ],
      "metadata": {
        "id": "-lW3HG7RBIai"
      },
      "id": "-lW3HG7RBIai"
    },
    {
      "cell_type": "code",
      "source": [
        "p = Path().cwd()\n",
        "print(p)\n",
        "q =  p/'drive'/'MyDrive'/'Colab Notebooks'/'waste' # use p to create a path to the data \n",
        "print(q)\n",
        "folder_name=[]\n",
        "folder_count=[]\n",
        "\n",
        "sum=0\n",
        "for fldr in q.iterdir():\n",
        "  if(sum>0): \n",
        "    print(sum)\n",
        "    folder_count.append(sum)\n",
        "  sum=0\n",
        "  print(fldr.name)\n",
        "  folder_name.append(fldr.name)\n",
        "  current_label = fldr.name\n",
        "  for img in fldr.iterdir():\n",
        "    #img = load_img(img)\n",
        "    #print(img.size)\n",
        "    sum=sum+1\n",
        "print(sum)\n",
        "folder_count.append(sum)\n",
        "\n",
        "print(folder_name,folder_count)\n",
        "\n",
        "fig = plt.figure()\n",
        "ax = fig.add_axes([0,0,1,1])\n",
        "y = folder_count\n",
        "x = folder_name\n",
        "ax.barh(x,y)\n",
        "plt.show()"
      ],
      "metadata": {
        "colab": {
          "base_uri": "https://localhost:8080/",
          "height": 535
        },
        "id": "klMrG6j_qGmc",
        "outputId": "05b7fdff-3de5-4b38-dbae-beab0206ccca"
      },
      "id": "klMrG6j_qGmc",
      "execution_count": 138,
      "outputs": [
        {
          "output_type": "stream",
          "name": "stdout",
          "text": [
            "/content\n",
            "/content/drive/MyDrive/Colab Notebooks/waste\n",
            "Loaded\n",
            "421\n",
            "Unloaded\n",
            "104\n",
            "Inter\n",
            "231\n",
            "Dump\n",
            "171\n",
            "['Loaded', 'Unloaded', 'Inter', 'Dump'] [421, 104, 231, 171]\n"
          ]
        },
        {
          "output_type": "display_data",
          "data": {
            "text/plain": [
              "<Figure size 432x288 with 1 Axes>"
            ],
            "image/png": "[encoded data removed]"
          },
          "metadata": {
            "needs_background": "light"
          }
        }
      ]
    },
    {
      "cell_type": "markdown",
      "source": [
        "Some classifications have more data then others, we ideally need same amount in each classification to ensure bias is not introduced"
      ],
      "metadata": {
        "id": "sEKvogt0BRhB"
      },
      "id": "sEKvogt0BRhB"
    },
    {
      "cell_type": "markdown",
      "source": [
        "**Now we take a look at the image resolution and see the distribution**"
      ],
      "metadata": {
        "id": "oQTp_e6_BfWC"
      },
      "id": "oQTp_e6_BfWC"
    },
    {
      "cell_type": "code",
      "source": [
        "p = Path().cwd()\n",
        "print(p)\n",
        "q =  p/'drive'/'MyDrive'/'Colab Notebooks'/'waste' # use p to create a path to the data \n",
        "print(q)\n",
        "folder_name=[]\n",
        "folder_count=[]\n",
        "ncount = 0\n",
        "sum=0\n",
        "for fldr in q.iterdir():\n",
        "  sum=0\n",
        "  for img in fldr.iterdir():\n",
        "    img = load_img(img)\n",
        "    #print(img.size)\n",
        "    sum=sum+1\n",
        "    if(str(img.size) not in folder_name):\n",
        "      folder_name.append(str(img.size))\n",
        "      folder_count.append(0)\n",
        "    ncount=0\n",
        "    for i,j in zip(folder_name,folder_count):\n",
        "      #print('inside for',i,j)\n",
        "      if(i==str(img.size)):\n",
        "        folder_count[ncount] = folder_count[ncount]+1\n",
        "        #print('inside for if',i,j)\n",
        "        #print(folder_name,folder_count)\n",
        "      ncount = ncount+1\n",
        "        \n",
        "\n",
        "print(folder_name,folder_count)\n",
        "\n",
        "fig = plt.figure()\n",
        "ax = fig.add_axes([0,0,1,1])\n",
        "y = folder_count\n",
        "x = folder_name\n",
        "ax.barh(x,y)\n",
        "plt.show()"
      ],
      "metadata": {
        "colab": {
          "base_uri": "https://localhost:8080/",
          "height": 390
        },
        "id": "iYRp47azsINx",
        "outputId": "8b3182b6-a3d7-4421-cae1-c318e27668fc"
      },
      "id": "iYRp47azsINx",
      "execution_count": 139,
      "outputs": [
        {
          "output_type": "stream",
          "name": "stdout",
          "text": [
            "/content\n",
            "/content/drive/MyDrive/Colab Notebooks/waste\n",
            "['(1024, 576)', '(320, 180)'] [568, 359]\n"
          ]
        },
        {
          "output_type": "display_data",
          "data": {
            "text/plain": [
              "<Figure size 432x288 with 1 Axes>"
            ],
            "image/png": "[encoded data removed]"
          },
          "metadata": {
            "needs_background": "light"
          }
        }
      ]
    },
    {
      "cell_type": "markdown",
      "source": [
        "There are 2 types of image quality,\n",
        "\n",
        "* 1024x576\n",
        "* 320x180\n",
        "\n",
        "We will need to convert them all into one resolution so that they can be feed into the model."
      ],
      "metadata": {
        "id": "EcG7aMNLBmi-"
      },
      "id": "EcG7aMNLBmi-"
    }
  ],
  "metadata": {
    "kernelspec": {
      "display_name": "Python 3 (ipykernel)",
      "language": "python",
      "name": "python3"
    },
    "language_info": {
      "codemirror_mode": {
        "name": "ipython",
        "version": 3
      },
      "file_extension": ".py",
      "mimetype": "text/x-python",
      "name": "python",
      "nbconvert_exporter": "python",
      "pygments_lexer": "ipython3",
      "version": "3.9.12"
    },
    "colab": {
      "name": "eda.ipynb",
      "provenance": [],
      "collapsed_sections": []
    }
  },
  "nbformat": 4,
  "nbformat_minor": 5
}